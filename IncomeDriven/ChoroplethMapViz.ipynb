{
  "nbformat": 4,
  "nbformat_minor": 0,
  "metadata": {
    "colab": {
      "provenance": []
    },
    "kernelspec": {
      "name": "python3",
      "display_name": "Python 3"
    },
    "language_info": {
      "name": "python"
    }
  },
  "cells": [
    {
      "cell_type": "markdown",
      "source": [
        "# Geospatial Analysis of Vehicles and Median Income with Choropleth Maps in Tableau"
      ],
      "metadata": {
        "id": "wHf89xFbSk5g"
      }
    },
    {
      "cell_type": "markdown",
      "source": [
        "## Objective\n",
        "\n",
        "Although I did not find a linear correlation between vehicles per capita and median household income in the main analysis, I thought it was likely that various socioeconomic and geographic features would contributed to the observed differences. To better visualize how and where that might occur, I created choropleth maps of each variable."
      ],
      "metadata": {
        "id": "aaTr8vz6QfqR"
      }
    },
    {
      "cell_type": "markdown",
      "source": [
        "## Methods\n",
        "\n",
        "Using Tableau, I visualized the average number of vehicles/capita and median household income by county. To do this, I exported the \"reg_pers\" dataframe, created in Cell 10 of the main notebook, to a .csv file and imported it, along with the county_stats csv file. These two tables were joined based on county name. I also captured the \"Vehicle per Capita\" column created in Cell 14 by creating a measure (COUNTD[VIN]/SUM[Total Population]).\n",
        "\n",
        "Note that the Average Number of Personal Vehicles/Person legend is set to a fixed minimum of 0.500 and the Median Household Income Legend is set to a fixed maximum of 100,000 in order to adequately visualize the range of values despite significant outliers. So, all counties with the first measure less than 0.500 are the same color and likewise for all counties with the second measure greater than 100,000."
      ],
      "metadata": {
        "id": "Lqo2lgBIG76f"
      }
    },
    {
      "cell_type": "markdown",
      "source": [
        "## Analysis and Discussion\n",
        "\n",
        "Although I did not find a linear correlation between these two measures in the main notebook, a geographic visualization revealed some interesting trends. For example, some of the least populous counties, such as Hamilton and Schuyler, have an average number of vehicles/person similar to much more populous counties such as Suffolk. One possible reason for this could be that in less populated rural counties, there may be more households with a pickup truck in addition to a smaller passenger vehicle to support agricultural, environmental, and recreational (i.e. campgrounds) work.\n",
        "\n",
        "Although such things are only speculative, viewing the counties side-by-side on a map invites us to explore the social, economic, and geographic differences between New York's counties that lead to these differences and distinctions"
      ],
      "metadata": {
        "id": "LBrztlpTJnch"
      }
    },
    {
      "cell_type": "code",
      "execution_count": null,
      "metadata": {
        "id": "Of8v97j3zeRe",
        "outputId": "cf95395c-ec19-449f-c9e3-88e48656f517",
        "colab": {
          "base_uri": "https://localhost:8080/",
          "height": 1000
        }
      },
      "outputs": [
        {
          "output_type": "display_data",
          "data": {
            "text/plain": [
              "<IPython.core.display.HTML object>"
            ],
            "text/html": [
              "\n",
              "<div class='tableauPlaceholder' id='viz1745514509182' style='position: relative'><noscript><a href='#'><img alt=' ' src='https:&#47;&#47;public.tableau.com&#47;static&#47;images&#47;In&#47;IncomeDrivenExploringRelationshipsBetweenVehiclesandHouseholdIncomeinNewYorkState&#47;Sheet1&#47;1_rss.png' style='border: none' /></a></noscript><object class='tableauViz'  style='display:none;'><param name='host_url' value='https%3A%2F%2Fpublic.tableau.com%2F' /> <param name='embed_code_version' value='3' /> <param name='site_root' value='' /><param name='name' value='IncomeDrivenExploringRelationshipsBetweenVehiclesandHouseholdIncomeinNewYorkState&#47;Sheet1' /><param name='tabs' value='no' /><param name='toolbar' value='yes' /><param name='static_image' value='https:&#47;&#47;public.tableau.com&#47;static&#47;images&#47;In&#47;IncomeDrivenExploringRelationshipsBetweenVehiclesandHouseholdIncomeinNewYorkState&#47;Sheet1&#47;1.png' /> <param name='animate_transition' value='yes' /><param name='display_static_image' value='yes' /><param name='display_spinner' value='yes' /><param name='display_overlay' value='yes' /><param name='display_count' value='yes' /><param name='language' value='en-US' /></object></div>                <script type='text/javascript'>                    var divElement = document.getElementById('viz1745514509182');                    var vizElement = divElement.getElementsByTagName('object')[0];                    vizElement.style.width='100%';vizElement.style.height=(divElement.offsetWidth*0.75)+'px';                    var scriptElement = document.createElement('script');                    scriptElement.src = 'https://public.tableau.com/javascripts/api/viz_v1.js';                    vizElement.parentNode.insertBefore(scriptElement, vizElement);                </script>\n"
            ]
          },
          "metadata": {}
        }
      ],
      "source": [
        "%%html\n",
        "\n",
        "<div class='tableauPlaceholder' id='viz1745514509182' style='position: relative'><noscript><a href='#'><img alt=' ' src='https:&#47;&#47;public.tableau.com&#47;static&#47;images&#47;In&#47;IncomeDrivenExploringRelationshipsBetweenVehiclesandHouseholdIncomeinNewYorkState&#47;Sheet1&#47;1_rss.png' style='border: none' /></a></noscript><object class='tableauViz'  style='display:none;'><param name='host_url' value='https%3A%2F%2Fpublic.tableau.com%2F' /> <param name='embed_code_version' value='3' /> <param name='site_root' value='' /><param name='name' value='IncomeDrivenExploringRelationshipsBetweenVehiclesandHouseholdIncomeinNewYorkState&#47;Sheet1' /><param name='tabs' value='no' /><param name='toolbar' value='yes' /><param name='static_image' value='https:&#47;&#47;public.tableau.com&#47;static&#47;images&#47;In&#47;IncomeDrivenExploringRelationshipsBetweenVehiclesandHouseholdIncomeinNewYorkState&#47;Sheet1&#47;1.png' /> <param name='animate_transition' value='yes' /><param name='display_static_image' value='yes' /><param name='display_spinner' value='yes' /><param name='display_overlay' value='yes' /><param name='display_count' value='yes' /><param name='language' value='en-US' /></object></div>                <script type='text/javascript'>                    var divElement = document.getElementById('viz1745514509182');                    var vizElement = divElement.getElementsByTagName('object')[0];                    vizElement.style.width='100%';vizElement.style.height=(divElement.offsetWidth*0.75)+'px';                    var scriptElement = document.createElement('script');                    scriptElement.src = 'https://public.tableau.com/javascripts/api/viz_v1.js';                    vizElement.parentNode.insertBefore(scriptElement, vizElement);                </script>"
      ]
    }
  ]
}